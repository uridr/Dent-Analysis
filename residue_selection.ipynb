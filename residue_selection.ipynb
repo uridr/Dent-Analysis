{
 "cells": [
  {
   "cell_type": "code",
   "execution_count": 1,
   "metadata": {},
   "outputs": [
    {
     "data": {
      "application/vnd.jupyter.widget-view+json": {
       "model_id": "ddd98a7de29c4ebb98c0c3df449a4390",
       "version_major": 2,
       "version_minor": 0
      },
      "text/plain": [
       "_ColormakerRegistry()"
      ]
     },
     "metadata": {},
     "output_type": "display_data"
    }
   ],
   "source": [
    "import pytraj as pt\n",
    "import nglview as nv"
   ]
  },
  {
   "cell_type": "code",
   "execution_count": 2,
   "metadata": {},
   "outputs": [
    {
     "data": {
      "text/plain": [
       "DataTransformerRegistry.enable('default')"
      ]
     },
     "execution_count": 2,
     "metadata": {},
     "output_type": "execute_result"
    }
   ],
   "source": [
    "import numpy as np\n",
    "import pandas as pd\n",
    "import altair as alt\n",
    "\n",
    "alt.data_transformers.disable_max_rows()"
   ]
  },
  {
   "cell_type": "code",
   "execution_count": 3,
   "metadata": {},
   "outputs": [],
   "source": [
    "traj_healthy = pt.load('../ciIP/step7.1b_production.dcd', '../ciIP/step5_assembly.psf')\n",
    "traj_mutant = pt.load('../Mutant/step7.1b_production.dcd', '../Mutant/step5_assembly.psf')"
   ]
  },
  {
   "cell_type": "code",
   "execution_count": 4,
   "metadata": {},
   "outputs": [
    {
     "data": {
      "text/plain": [
       "((187, 267821, 3), (363, 251836, 3))"
      ]
     },
     "execution_count": 4,
     "metadata": {},
     "output_type": "execute_result"
    }
   ],
   "source": [
    "traj_healthy.xyz.shape, traj_mutant.xyz.shape"
   ]
  },
  {
   "cell_type": "code",
   "execution_count": 5,
   "metadata": {},
   "outputs": [],
   "source": [
    "# nv.show_pytraj(traj)"
   ]
  },
  {
   "cell_type": "code",
   "execution_count": 6,
   "metadata": {},
   "outputs": [],
   "source": [
    "from collections import defaultdict\n",
    "\n",
    "def residue_positions(traj):\n",
    "    residue_positions = defaultdict(list)\n",
    "\n",
    "    for index, residue in enumerate(list(traj.top.residues)):\n",
    "        key = residue.name + str(residue.index)\n",
    "        residue_positions[key].append(str(index + 1))\n",
    "        \n",
    "    return residue_positions\n",
    "\n",
    "residue_positions_healthy = residue_positions(traj_healthy)\n",
    "residue_positions_mutant = residue_positions(traj_mutant)"
   ]
  },
  {
   "cell_type": "code",
   "execution_count": 7,
   "metadata": {},
   "outputs": [
    {
     "data": {
      "text/plain": [
       "':320,995,324,999,323,998,244,919,149,824,151,826,152,827,153,828,395,1070,396,1071,397,1072,398,1073,499,1174,111,786,112,787,210,885,109,784,110,785,107,782,502,1177,289,964,506,1181,285,960,287,962,288,963,296,971,391,1066,508,1183,101,776,116,791,197,872,202,877,206,881,209,884,462,1137,460,1135,199,874,201,876,203,878,205,880,479,1154,480,115'"
      ]
     },
     "execution_count": 7,
     "metadata": {},
     "output_type": "execute_result"
    }
   ],
   "source": [
    "# Cal restar 1 i posar en majúscules\n",
    "# Per exemple Gly209 -> GLY208\n",
    "# A més, cal canviar His -> HSD\n",
    "\n",
    "interesting_residues = [\n",
    "    'ARG377', 'SER381', 'THR380', 'ARG301', 'SER206', 'GLY208',\n",
    "    'LYS209', 'GLU210', 'GLY452', 'LEU453', 'PHE454', 'ILE455',\n",
    "    'TYR557', 'GLY168', 'ILE169', 'GLU267', 'GLY166', 'SER167',\n",
    "    'ALA164', 'HSD560', 'ARG346', 'ASN564', 'TRP342', 'ARG344',\n",
    "    'LYS345', 'LYS353', 'LYS448', 'TYR566', 'LYS158', 'LYS173',\n",
    "    'PHE254', 'GLY259', 'PHE263', 'GLU266', 'SER519', 'THR517',\n",
    "    'LEU527', 'ALA256', 'ILE258', 'GLY260', 'LEU262', 'LEU531',\n",
    "    'MET534', 'LEU537', 'MET538', 'VAL522'\n",
    "]\n",
    "\n",
    "interesting_common_residues = [r for r in interesting_residues if r not in ['LEU527', 'LEU531', 'MET534', 'VAL522']]\n",
    "\n",
    "def get_indices(residue_positions, interesting_residues):\n",
    "    s = ':'\n",
    "    for index, residue in enumerate(interesting_residues):\n",
    "        if len(residue_positions[residue]) == 0:\n",
    "            print(f'Residue {residue} not found in traj')\n",
    "        else:\n",
    "            if index != 0: s += ','\n",
    "            for index2, position in enumerate(residue_positions[residue]):\n",
    "                if index2 != 0: s += ','\n",
    "                s += position\n",
    "    return s[:-1]\n",
    "\n",
    "get_indices(residue_positions_mutant, interesting_common_residues)"
   ]
  },
  {
   "cell_type": "code",
   "execution_count": 8,
   "metadata": {},
   "outputs": [
    {
     "data": {
      "text/plain": [
       "':320,996,324,1000,323,999,244,920,149,825,151,827,152,828,153,829,395,1071,396,1072,397,1073,398,1074,500,1176,111,787,112,788,210,886,109,785,110,786,107,783,503,1179,289,965,507,1183,285,961,287,963,288,964,296,972,391,1067,509,1185,101,777,116,792,197,873,202,878,206,882,209,885,462,1138,460,1136,199,875,201,877,203,879,205,881,480,1156,481,115'"
      ]
     },
     "execution_count": 8,
     "metadata": {},
     "output_type": "execute_result"
    }
   ],
   "source": [
    "get_indices(residue_positions_healthy, interesting_common_residues)"
   ]
  },
  {
   "cell_type": "markdown",
   "metadata": {},
   "source": [
    "## SAVE DATA"
   ]
  },
  {
   "cell_type": "code",
   "execution_count": 10,
   "metadata": {},
   "outputs": [
    {
     "data": {
      "text/plain": [
       "(187, 84, 3)"
      ]
     },
     "execution_count": 10,
     "metadata": {},
     "output_type": "execute_result"
    }
   ],
   "source": [
    "data_healthy_ca = traj_healthy[get_indices(residue_positions_healthy, interesting_common_residues)]['@CA'].xyz\n",
    "n_frames = data_healthy_ca.shape[0]\n",
    "data_healthy_ca.shape"
   ]
  },
  {
   "cell_type": "code",
   "execution_count": 11,
   "metadata": {},
   "outputs": [
    {
     "data": {
      "text/plain": [
       "(187, 84, 3)"
      ]
     },
     "execution_count": 11,
     "metadata": {},
     "output_type": "execute_result"
    }
   ],
   "source": [
    "data_mutant_ca = traj_mutant[get_indices(residue_positions_mutant, interesting_common_residues)]['@CA'].xyz[:n_frames, :, :]\n",
    "data_mutant_ca.shape"
   ]
  },
  {
   "cell_type": "code",
   "execution_count": null,
   "metadata": {},
   "outputs": [],
   "source": [
    "DATA_DIR = \"data/\"\n",
    "# healthy patient\n",
    "np.save(DATA_DIR+\"data_healthy_ca.npy\", data_healthy_ca)\n",
    "# mutant patient\n",
    "np.save(DATA_DIR+\"data_mutant_ca.npy\", data_healthy_ca)"
   ]
  }
 ],
 "metadata": {
  "kernelspec": {
   "display_name": "Python 3",
   "language": "python",
   "name": "python3"
  },
  "language_info": {
   "codemirror_mode": {
    "name": "ipython",
    "version": 3
   },
   "file_extension": ".py",
   "mimetype": "text/x-python",
   "name": "python",
   "nbconvert_exporter": "python",
   "pygments_lexer": "ipython3",
   "version": "3.7.5"
  }
 },
 "nbformat": 4,
 "nbformat_minor": 4
}
